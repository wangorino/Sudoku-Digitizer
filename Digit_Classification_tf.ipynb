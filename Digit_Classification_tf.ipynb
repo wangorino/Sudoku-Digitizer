{
 "cells": [
  {
   "cell_type": "code",
   "execution_count": null,
   "id": "e5794a5e",
   "metadata": {},
   "outputs": [],
   "source": [
    "import tensorflow as tf\n",
    "from tensorflow.keras import models, layers\n",
    "import matplotlib.pyplot as plt\n",
    "%matplotlib inline\n",
    "import numpy as np\n",
    "import seaborn as sn\n",
    "import cv2"
   ]
  },
  {
   "cell_type": "code",
   "execution_count": null,
   "id": "914b4e60",
   "metadata": {},
   "outputs": [],
   "source": [
    "IMAGE_SIZE = 28\n",
    "CHANNELS = 1\n",
    "EPOCHS = 25\n",
    "DIRECTORY = \"E:\\\\PycharmProjects\\\\Sudoku_Solver\""
   ]
  },
  {
   "cell_type": "code",
   "execution_count": null,
   "id": "a7f9ed70",
   "metadata": {},
   "outputs": [],
   "source": [
    "dataset = tf.keras.preprocessing.image_dataset_from_directory(\n",
    "    f\"{DIRECTORY}\\\\digits\",\n",
    "    seed=123,\n",
    "    shuffle=True,\n",
    "    image_size=(IMAGE_SIZE,IMAGE_SIZE),\n",
    "    color_mode='grayscale'\n",
    ")"
   ]
  },
  {
   "cell_type": "code",
   "execution_count": null,
   "id": "5caf1784",
   "metadata": {},
   "outputs": [],
   "source": [
    "class_names = dataset.class_names\n",
    "class_names"
   ]
  },
  {
   "cell_type": "code",
   "execution_count": null,
   "id": "81023c8f",
   "metadata": {},
   "outputs": [],
   "source": [
    "def partition_dataset_tf(dataset, train_ratio=0.8, test_ratio=0.1, shuffle=True, shuffle_size=10000):\n",
    "    assert (train_ratio + test_ratio) <= 1 # If smaller 1, a validation set is also created.\n",
    "    \n",
    "    dataset_size = len(dataset)\n",
    "    \n",
    "    if shuffle:\n",
    "        dataset = dataset.shuffle(shuffle_size, seed=12)\n",
    "        \n",
    "    train_size = int(train_ratio * dataset_size)\n",
    "    test_size = int(test_ratio * dataset_size)\n",
    "    \n",
    "    train_ds = dataset.take(train_size)\n",
    "    test_ds = dataset.skip(train_size).take(test_size)\n",
    "    val_ds = dataset.skip(train_size).skip(test_size)\n",
    "    \n",
    "    assert len(train_ds) + len(val_ds) + len(test_ds) == dataset_size\n",
    "    \n",
    "    return train_ds, val_ds, test_ds\n",
    "        "
   ]
  },
  {
   "cell_type": "code",
   "execution_count": null,
   "id": "efd84a2e",
   "metadata": {},
   "outputs": [],
   "source": [
    "train_ds, val_ds, test_ds = partition_dataset_tf(dataset)"
   ]
  },
  {
   "cell_type": "code",
   "execution_count": null,
   "id": "9849dd66",
   "metadata": {},
   "outputs": [],
   "source": [
    "print(f\"train size:{len(train_ds)}, validation size:{len(val_ds)}, test size:{len(test_ds)}\")"
   ]
  },
  {
   "cell_type": "code",
   "execution_count": null,
   "id": "937f62f3",
   "metadata": {},
   "outputs": [],
   "source": [
    "train_ds = train_ds.cache().shuffle(1000).prefetch(buffer_size=tf.data.AUTOTUNE)\n",
    "val_ds = val_ds.cache().shuffle(1000).prefetch(buffer_size=tf.data.AUTOTUNE)\n",
    "test_ds = test_ds.cache().shuffle(1000).prefetch(buffer_size=tf.data.AUTOTUNE)"
   ]
  },
  {
   "cell_type": "code",
   "execution_count": null,
   "id": "103b56d8",
   "metadata": {},
   "outputs": [],
   "source": [
    "resize_rescale = tf.keras.Sequential([\n",
    "    layers.experimental.preprocessing.Resizing(IMAGE_SIZE, IMAGE_SIZE),\n",
    "    layers.experimental.preprocessing.Rescaling(1./255)\n",
    "])"
   ]
  },
  {
   "cell_type": "code",
   "execution_count": null,
   "id": "89611e31",
   "metadata": {},
   "outputs": [],
   "source": [
    "plt.figure(figsize=(10, 10))\n",
    "for image_batch, labels_batch in dataset.take(1):\n",
    "    for i in range(16):\n",
    "        ax = plt.subplot(4, 4, i + 1)\n",
    "        plt.imshow(image_batch[i].numpy().astype(\"uint8\"))\n",
    "        plt.title(class_names[labels_batch[i]])\n",
    "        plt.axis(\"off\")\n",
    "    print(image_batch.shape)\n",
    "    print(labels_batch.numpy())\n",
    "    \n"
   ]
  },
  {
   "cell_type": "code",
   "execution_count": null,
   "id": "4b238d21",
   "metadata": {},
   "outputs": [],
   "source": [
    "model = models.Sequential([\n",
    "    resize_rescale,\n",
    "    layers.Flatten(input_shape=(28, 28)),\n",
    "    layers.Dense(100, activation='relu'),\n",
    "    layers.Dense(10, activation='sigmoid')\n",
    "])\n",
    "\n",
    "model.compile(optimizer='adam',\n",
    "              loss='sparse_categorical_crossentropy',\n",
    "              metrics=['accuracy'])"
   ]
  },
  {
   "cell_type": "code",
   "execution_count": null,
   "id": "16e01b4f",
   "metadata": {},
   "outputs": [],
   "source": [
    "history = model.fit(\n",
    "    train_ds,\n",
    "    validation_data=val_ds,\n",
    "    verbose=1,\n",
    "    epochs=EPOCHS\n",
    ")"
   ]
  },
  {
   "cell_type": "code",
   "execution_count": null,
   "id": "c1686f4b",
   "metadata": {},
   "outputs": [],
   "source": [
    "model.evaluate(test_ds)"
   ]
  },
  {
   "cell_type": "code",
   "execution_count": null,
   "id": "3d306fac",
   "metadata": {},
   "outputs": [],
   "source": [
    "predicted = model.predict(test_ds)\n",
    "predicted_labels = [np.argmax(i) for i in predicted]\n",
    "cm = tf.math.confusion_matrix(labels=test_ds, predictions=predicted_labels)\n",
    "\n",
    "plt.figure(figsize = (10,7))\n",
    "sn.heatmap(cm, annot=True, fmt='d')\n",
    "plt.xlabel('Predicted')\n",
    "plt.ylabel('Truth')"
   ]
  },
  {
   "cell_type": "code",
   "execution_count": null,
   "id": "200e8921",
   "metadata": {},
   "outputs": [],
   "source": [
    "for i in range(40):\n",
    "    plt.matshow(test_ds[i])"
   ]
  },
  {
   "cell_type": "code",
   "execution_count": null,
   "id": "4c4cc6b0",
   "metadata": {},
   "outputs": [],
   "source": [
    "np.argmax(predicted[1])"
   ]
  },
  {
   "cell_type": "code",
   "execution_count": null,
   "id": "57cd1510",
   "metadata": {},
   "outputs": [],
   "source": [
    "model.save(\"E:\\PycharmProjects\\Sudoku_Solver\\model\\Digit_Classifier\")"
   ]
  },
  {
   "cell_type": "code",
   "execution_count": null,
   "id": "e635dcfd",
   "metadata": {},
   "outputs": [],
   "source": []
  }
 ],
 "metadata": {
  "kernelspec": {
   "display_name": "tensorflow_py37",
   "language": "python",
   "name": "tensorflow_py37"
  },
  "language_info": {
   "codemirror_mode": {
    "name": "ipython",
    "version": 3
   },
   "file_extension": ".py",
   "mimetype": "text/x-python",
   "name": "python",
   "nbconvert_exporter": "python",
   "pygments_lexer": "ipython3",
   "version": "3.7.11"
  }
 },
 "nbformat": 4,
 "nbformat_minor": 5
}
